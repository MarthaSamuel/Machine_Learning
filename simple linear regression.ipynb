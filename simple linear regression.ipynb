{
 "cells": [
  {
   "cell_type": "markdown",
   "metadata": {},
   "source": [
    "### source @sentdex"
   ]
  },
  {
   "cell_type": "code",
   "execution_count": 33,
   "metadata": {},
   "outputs": [
    {
     "name": "stdout",
     "output_type": "stream",
     "text": [
      "              Open    High     Low    Close      Volume  Ex-Dividend  \\\n",
      "Date                                                                   \n",
      "2004-08-19  100.01  104.06   95.96  100.335  44659000.0          0.0   \n",
      "2004-08-20  101.01  109.08  100.50  108.310  22834300.0          0.0   \n",
      "2004-08-23  110.76  113.48  109.05  109.400  18256100.0          0.0   \n",
      "2004-08-24  111.24  111.60  103.57  104.870  15247300.0          0.0   \n",
      "2004-08-25  104.76  108.00  103.88  106.000   9188600.0          0.0   \n",
      "\n",
      "            Split Ratio  Adj. Open  Adj. High   Adj. Low  Adj. Close  \\\n",
      "Date                                                                   \n",
      "2004-08-19          1.0  50.159839  52.191109  48.128568   50.322842   \n",
      "2004-08-20          1.0  50.661387  54.708881  50.405597   54.322689   \n",
      "2004-08-23          1.0  55.551482  56.915693  54.693835   54.869377   \n",
      "2004-08-24          1.0  55.792225  55.972783  51.945350   52.597363   \n",
      "2004-08-25          1.0  52.542193  54.167209  52.100830   53.164113   \n",
      "\n",
      "            Adj. Volume  \n",
      "Date                     \n",
      "2004-08-19   44659000.0  \n",
      "2004-08-20   22834300.0  \n",
      "2004-08-23   18256100.0  \n",
      "2004-08-24   15247300.0  \n",
      "2004-08-25    9188600.0  \n"
     ]
    }
   ],
   "source": [
    "import pandas as pd\n",
    "import quandl, math,datetime\n",
    "import numpy as np\n",
    "from sklearn import preprocessing, model_selection, svm\n",
    "from sklearn.linear_model import LinearRegression\n",
    "from sklearn.model_selection import train_test_split\n",
    "import matplotlib.pyplot as plt\n",
    "from matplotlib import style\n",
    "import pickle\n",
    "\n",
    "\n",
    "\n",
    "style.use('ggplot')\n",
    "quandl.ApiConfig.api_key = '3yygLjxqGXzV1QmonzyW'\n",
    "df = quandl.get('WIKI/GOOGL')\n",
    "'''the next line prints the data in the line above'''\n",
    "print(df.head())\n"
   ]
  },
  {
   "cell_type": "code",
   "execution_count": 34,
   "metadata": {},
   "outputs": [
    {
     "name": "stdout",
     "output_type": "stream",
     "text": [
      "            Adj. Close    HL_PCT  PCT_CHANGE  Adj. Volume\n",
      "Date                                                     \n",
      "2004-08-19   50.322842  8.441017    0.324968   44659000.0\n",
      "2004-08-20   54.322689  8.537313    7.227007   22834300.0\n",
      "2004-08-23   54.869377  4.062357   -1.227880   18256100.0\n",
      "2004-08-24   52.597363  7.753210   -5.726357   15247300.0\n",
      "2004-08-25   53.164113  3.966115    1.183658    9188600.0\n"
     ]
    }
   ],
   "source": [
    "'''we need these five rows in the df to make the calculations below'''\n",
    "df = df[['Adj. Open','Adj. High','Adj. Low','Adj. Close','Adj. Volume']]\n",
    "df['HL_PCT'] = (df['Adj. High']-df['Adj. Low'])/ df ['Adj. Low']* 100.0\n",
    "df['PCT_CHANGE'] = (df['Adj. Close']-df['Adj. Open'])/ df ['Adj. Open']* 100.0\n",
    "'''These are the columns in the df we actually need'''\n",
    "df = df[['Adj. Close','HL_PCT','PCT_CHANGE','Adj. Volume']]\n",
    "print(df.head())"
   ]
  },
  {
   "cell_type": "code",
   "execution_count": 35,
   "metadata": {},
   "outputs": [
    {
     "name": "stdout",
     "output_type": "stream",
     "text": [
      "            Adj. Close    HL_PCT  PCT_CHANGE  Adj. Volume       label\n",
      "Date                                                                 \n",
      "2004-08-19   50.322842  8.441017    0.324968   44659000.0  214.005615\n",
      "2004-08-20   54.322689  8.537313    7.227007   22834300.0  210.725489\n",
      "2004-08-23   54.869377  4.062357   -1.227880   18256100.0  208.072299\n",
      "2004-08-24   52.597363  7.753210   -5.726357   15247300.0  218.288837\n",
      "2004-08-25   53.164113  3.966115    1.183658    9188600.0  223.309335\n"
     ]
    }
   ],
   "source": [
    "'''we will start the forecast here with forecast_col as input or feature'''\n",
    "forecast_col = 'Adj. Close'\n",
    "df.fillna(-99999,inplace = True)\n",
    "\n",
    "forecast_out = int(math.ceil(0.1*len(df)))\n",
    "\n",
    "df['label'] = df[forecast_col].shift(-forecast_out)\n",
    "\n",
    "#print(df.tail())\n",
    "print(df.head())"
   ]
  },
  {
   "cell_type": "code",
   "execution_count": 36,
   "metadata": {},
   "outputs": [
    {
     "name": "stdout",
     "output_type": "stream",
     "text": [
      "3081 3081\n"
     ]
    }
   ],
   "source": [
    "#testing and training\n",
    "\n",
    "'''this returns a new df feature droping the label'''\n",
    "X = np.array(df.drop(['label'], 1))\n",
    "X = preprocessing.scale(X)\n",
    "X_lately= X[-forecast_out:]# 1% of data\n",
    "X = X[:-forecast_out]# 1st 99% of data\n",
    "\n",
    "df.dropna(inplace = True)\n",
    "\n",
    "y = np.array(df['label'])\n",
    "'''lenght X must be = lenght y'''\n",
    "print(len(X),len(y))"
   ]
  },
  {
   "cell_type": "code",
   "execution_count": 37,
   "metadata": {},
   "outputs": [
    {
     "name": "stdout",
     "output_type": "stream",
     "text": [
      "0.8824395582763527\n"
     ]
    }
   ],
   "source": [
    "'''this is 20% of the data for testing'''\n",
    "X_train, X_test, y_train, y_test = model_selection.train_test_split(X, y, test_size=0.2)\n",
    "'''classifier is used for predictions'''\n",
    "clf = LinearRegression(n_jobs=-1)\n",
    "'''we can switch the algorithm using either clf abv or below'''\n",
    "#clf = svm.SVR()\n",
    "'''we can add a parameter, say'''\n",
    "#clf = svm.SVR(kernel='poly')\n",
    "clf.fit(X_train, y_train)\n",
    "\n",
    "'''for pickle'''\n",
    "with open ('linearregression.pickle','wb') as f:\n",
    "    pickle.dump(clf, f)\n",
    "\n",
    "'''if we comment everything above from clf = ... to pickle.dump...,the code still runs'''\n",
    "'''to read the pickle'''\n",
    "pickle_in = open('linearregression.pickle','rb')\n",
    "'''we renamed classifier here'''\n",
    "clf = pickle.load(pickle_in)\n",
    "\n",
    "accuracy = clf.score(X_test, y_test)\n",
    "'''accuracy is squared error'''\n",
    "print(accuracy)\n"
   ]
  },
  {
   "cell_type": "code",
   "execution_count": 38,
   "metadata": {},
   "outputs": [
    {
     "name": "stdout",
     "output_type": "stream",
     "text": [
      "[ 969.22761281  961.4830089   976.48839251  985.75800896  986.34784034\n",
      "  979.79674895  985.53754819  986.05076596  984.86006363  976.29628765\n",
      "  995.59886089  992.1690753   981.43036539  973.02156691  961.53292374\n",
      "  979.76118912  976.5247288  1000.44410197  999.19241743 1017.03644419\n",
      " 1011.27955803 1024.5818391  1027.36118914 1024.31720345 1016.60530701\n",
      " 1021.40506087 1019.60641644 1020.12193358 1012.55067648 1011.25525768\n",
      " 1017.25500031 1011.24575426 1006.33174778  998.20838176 1017.49650314\n",
      " 1013.44588056 1018.6752323  1040.96878187 1037.0664179  1033.78925146\n",
      " 1040.10878619 1040.499034   1038.86272884 1035.98380467 1037.24731914\n",
      " 1034.19730421 1035.04942077 1063.64431241 1064.76910827 1075.63358029\n",
      " 1073.39393823 1070.23347596 1037.31486228 1028.56799716 1024.16639707\n",
      " 1028.74111685 1026.64792342 1029.68000778 1039.13681746 1040.80631482\n",
      " 1038.19734949 1044.76965759 1049.06592702 1050.90828255 1047.09153365\n",
      " 1053.21764863 1059.5661815  1062.01629887 1065.72148175 1067.64672854\n",
      " 1059.96969904 1064.26136107 1057.99846718 1073.30506094 1064.60872438\n",
      " 1062.42391112 1061.45389601 1066.20185511 1067.69571144 1074.37060814\n",
      " 1077.8287953  1081.54991119 1084.23398434 1087.98651762 1087.57678853\n",
      " 1090.49407226 1084.97938354 1078.28477464 1064.72504647 1050.72837674\n",
      " 1051.37203741 1057.08434678 1057.08720546 1066.05475348 1062.33886054\n",
      " 1058.9808847  1075.06241568 1065.83019838 1067.03121338 1059.83760342\n",
      " 1055.71733394 1053.08155402 1054.22841398 1052.78464051 1051.1530262\n",
      " 1076.29890203 1068.55385479 1072.02437408 1076.12596262 1073.44969122\n",
      " 1104.52980791 1115.85005164 1113.19710403 1114.24022227 1158.29321116\n",
      " 1171.38282193 1175.04559503 1191.04563553 1196.52134668 1190.55862589\n",
      " 1202.65135649 1196.6671859  1194.09773966 1197.14116545 1193.76382342\n",
      " 1201.34943648 1205.30135214 1187.52032775 1192.21761275 1194.07712064\n",
      " 1206.17026624 1215.35129567 1222.01187951 1246.54087153 1242.73368602\n",
      " 1244.50910683 1241.2655279  1238.87735095 1246.30670845 1257.99913127\n",
      " 1250.41642592 1252.64698908 1256.35611543 1243.20359882 1217.21943281\n",
      " 1219.00414118 1219.41968287 1208.85865845 1200.5809082  1221.84966672\n",
      " 1215.55816794 1225.86950075 1221.48702048 1235.95910301 1227.05017387\n",
      " 1194.11341866 1214.48127558 1182.26895181 1168.2983728  1158.7622238\n",
      " 1172.86332934 1166.40006234 1181.73202028 1191.89248831 1194.13995273\n",
      " 1213.39580884 1215.82389387 1221.82968314 1223.70451587 1241.57466464\n",
      " 1241.99572691 1245.14602951 1244.86950251 1252.22679134 1211.56169145\n",
      " 1211.02452542 1207.43638613 1204.34177593 1190.67192313 1185.61382701\n",
      " 1191.31267752 1178.93234741 1183.3632974  1181.56874339 1182.77346634\n",
      " 1177.6267609  1159.67134315 1166.6080779  1174.09700595 1173.13196729\n",
      " 1182.81137013 1166.88517632 1158.84241365 1153.89802032 1181.7444126\n",
      " 1181.09840035 1178.08687799 1166.71742602 1162.45169498 1178.73985983\n",
      " 1183.52867911 1196.73265726 1191.56438289 1183.67343821 1181.5376952\n",
      " 1192.18520443 1180.42029356 1183.05018856 1186.46797179 1189.40305552\n",
      " 1177.6696764  1171.76867047 1166.07774811 1174.79352144 1188.08378957\n",
      " 1189.53879215 1181.36005377 1174.07541467 1173.47121262 1210.63879689\n",
      " 1208.6747652  1218.63130785 1215.80001328 1217.40532224 1210.52646753\n",
      " 1237.45537951 1247.6567193  1241.99626262 1241.56874145 1264.82009538\n",
      " 1259.09458915 1260.27444548 1264.19907466 1264.90170876 1268.49972993\n",
      " 1254.05658039 1255.7082786  1242.86215099 1239.16541021 1245.91522177\n",
      " 1245.1245665  1307.51849937 1297.06423495 1295.88165082 1306.46849919\n",
      " 1309.80451896 1315.76267897 1305.81446968 1317.25703857 1314.03554319\n",
      " 1304.13686739 1303.11182402 1305.83571564 1296.79082857 1314.52010689\n",
      " 1301.51564998 1292.86955227 1315.21678658 1315.76655874 1321.32884632\n",
      " 1345.9359958  1340.14974875 1309.83382938 1298.77116129 1289.51925471\n",
      " 1274.54450812 1291.82820993 1301.61225263 1309.29145513 1313.48807642\n",
      " 1317.85274647 1317.02392357 1314.99570077 1325.21913701 1342.74700457\n",
      " 1361.04302928 1352.72000125 1344.91049299 1339.1141134  1334.12539911\n",
      " 1334.24556046 1326.97292745 1322.74098045 1315.4498383  1350.40993809\n",
      " 1372.83450066 1370.67502392 1389.5608401  1393.21674019 1392.1138638\n",
      " 1388.07299483 1389.97441011 1421.13046286 1421.06900784 1427.93520868\n",
      " 1424.34698171 1430.5504073  1463.95767674 1470.65957024 1469.75330717\n",
      " 1479.63676724 1489.53073413 1485.33682502 1473.49240054 1480.16764879\n",
      " 1480.41200397 1401.90527659 1366.12642474 1384.25611965 1334.00944811\n",
      " 1290.83567494 1332.70655798 1324.77525099 1321.55932489 1351.13674158\n",
      " 1375.30858077 1373.89238872 1389.9295494  1403.55590773 1394.62702902\n",
      " 1417.160256   1432.7337699  1407.92026136 1389.02790571 1361.19307062\n",
      " 1371.81837252 1380.89450226 1377.98379019 1404.05798911 1414.58868867\n",
      " 1460.27666425 1462.18573423 1445.01372309 1440.25777843 1448.4141829\n",
      " 1426.96199377 1387.36374646 1377.68414729 1374.95938776 1331.92502861\n",
      " 1305.17681466 1342.92257562 1298.38404782] 0.8824395582763527 343\n"
     ]
    }
   ],
   "source": [
    "'''forecasting and predicting'''\n",
    "forecast_set=clf.predict(X_lately)\n",
    "\n",
    "print(forecast_set, accuracy,forecast_out)"
   ]
  },
  {
   "cell_type": "code",
   "execution_count": 39,
   "metadata": {},
   "outputs": [
    {
     "name": "stdout",
     "output_type": "stream",
     "text": [
      "            Adj. Close    HL_PCT  PCT_CHANGE  Adj. Volume       label  \\\n",
      "Date                                                                    \n",
      "2004-08-19   50.322842  8.441017    0.324968   44659000.0  214.005615   \n",
      "2004-08-20   54.322689  8.537313    7.227007   22834300.0  210.725489   \n",
      "2004-08-23   54.869377  4.062357   -1.227880   18256100.0  208.072299   \n",
      "2004-08-24   52.597363  7.753210   -5.726357   15247300.0  218.288837   \n",
      "2004-08-25   53.164113  3.966115    1.183658    9188600.0  223.309335   \n",
      "\n",
      "            Forecast  \n",
      "Date                  \n",
      "2004-08-19       NaN  \n",
      "2004-08-20       NaN  \n",
      "2004-08-23       NaN  \n",
      "2004-08-24       NaN  \n",
      "2004-08-25       NaN  \n"
     ]
    }
   ],
   "source": [
    "#to plot the values for these 35 days on a graph\n",
    "df['Forecast'] = np.nan\n",
    "\n",
    "last_date = df.iloc[-1].name\n",
    "last_unix = last_date.timestamp()\n",
    "one_day = 86400\n",
    "next_unix = last_unix + one_day\n",
    "\n",
    "'''we will populate our dataframe with the new date and forecast values'''\n",
    "for i in forecast_set:\n",
    "    next_date = datetime.datetime.fromtimestamp(next_unix)\n",
    "    next_unix += one_day\n",
    "    '''this sets the first column as nan and the final column is i(forecast). df.loc[next_date] makes the date index. \n",
    "    The _ refers to the values in each column that are not numbers, so we have np.nan for them. then we add forecast(i) as\n",
    "    our last column'''\n",
    "    df.loc[next_date] = [np.nan for _ in range(len(df.columns)-1)] + [i]\n",
    "    \n",
    "print(df.head()) \n",
    "\n"
   ]
  },
  {
   "cell_type": "code",
   "execution_count": 40,
   "metadata": {},
   "outputs": [
    {
     "data": {
      "image/png": "[encoded data removed]",
      "text/plain": [
       "<Figure size 432x288 with 1 Axes>"
      ]
     },
     "metadata": {},
     "output_type": "display_data"
    }
   ],
   "source": [
    "df['Adj. Close'].plot()\n",
    "df['Forecast'].plot()\n",
    "plt.legend(loc=4)\n",
    "plt.xlabel('Date')\n",
    "plt.ylabel('Price')\n",
    "plt.show()"
   ]
  }
 ],
 "metadata": {
  "kernelspec": {
   "display_name": "Python 3",
   "language": "python",
   "name": "python3"
  },
  "language_info": {
   "codemirror_mode": {
    "name": "ipython",
    "version": 3
   },
   "file_extension": ".py",
   "mimetype": "text/x-python",
   "name": "python",
   "nbconvert_exporter": "python",
   "pygments_lexer": "ipython3",
   "version": "3.7.6"
  }
 },
 "nbformat": 4,
 "nbformat_minor": 4
}
